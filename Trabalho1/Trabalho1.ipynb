{
  "nbformat": 4,
  "nbformat_minor": 0,
  "metadata": {
    "colab": {
      "provenance": []
    },
    "kernelspec": {
      "name": "python3",
      "display_name": "Python 3"
    },
    "language_info": {
      "name": "python"
    }
  },
  "cells": [
    {
      "cell_type": "code",
      "execution_count": null,
      "metadata": {
        "id": "dr41XRAb7y40"
      },
      "outputs": [],
      "source": [
        "# Instalar a Biblioteca Ultralitycs AQUI !"
      ]
    },
    {
      "cell_type": "code",
      "source": [
        "import ultralytics\n",
        "# Importar a Biblioteca YOLO AQUI !\n",
        "import numpy as np\n",
        "from google.colab.patches import cv2_imshow\n",
        "import matplotlib.pyplot as plt\n",
        "# Importar OPENCV AQUI!"
      ],
      "metadata": {
        "id": "6ZZ06VBl7864"
      },
      "execution_count": null,
      "outputs": []
    },
    {
      "cell_type": "code",
      "source": [
        "model = # INSTANCIAR O MODELO AQUI"
      ],
      "metadata": {
        "id": "Qy9BvGyi78-U"
      },
      "execution_count": null,
      "outputs": []
    },
    {
      "cell_type": "code",
      "source": [
        "img = ___COMPLETE____.imread('CAMINHO DA IMAGEM')"
      ],
      "metadata": {
        "id": "TJr0e4hm79CZ"
      },
      "execution_count": null,
      "outputs": []
    },
    {
      "cell_type": "code",
      "source": [
        "People_results = # REALIZE A INFERENCIA AQUI !"
      ],
      "metadata": {
        "id": "jtvSxr4I79E5"
      },
      "execution_count": null,
      "outputs": []
    },
    {
      "cell_type": "code",
      "source": [
        "boxes = # OBTENHA OS BBOX AQUI"
      ],
      "metadata": {
        "id": "-V28Pu-e79Hg"
      },
      "execution_count": null,
      "outputs": []
    },
    {
      "cell_type": "code",
      "source": [
        "##### ESCREVA A FUNÇÃO ########\n",
        "\n",
        "def CROP(img, boxes):\n",
        "  ''' Função que retorna uma lista obtendo todas\n",
        "      as faces encontradas na imagem.'''\n",
        "\n",
        "  cropped_faces = []\n",
        "  for box in boxes:\n",
        "\n",
        "    ## ESCREVA O CÓDIGO AQUI!\n",
        "\n",
        "  return cropped_faces"
      ],
      "metadata": {
        "id": "EKsVW33F79KH"
      },
      "execution_count": 1,
      "outputs": []
    },
    {
      "cell_type": "code",
      "source": [
        "faces = CROP(img,boxes)"
      ],
      "metadata": {
        "id": "eHJgDAOa9EmJ"
      },
      "execution_count": null,
      "outputs": []
    },
    {
      "cell_type": "code",
      "source": [
        "for i in range(len(faces)):\n",
        "  ### PLOT AS FACES AQUI!"
      ],
      "metadata": {
        "id": "eif60T8L92-1"
      },
      "execution_count": null,
      "outputs": []
    },
    {
      "cell_type": "code",
      "source": [
        "def BLUR(img, boxes):\n",
        "\n",
        " ''' Função que retorna a imagem\n",
        "     contendo o blur em cada face encontrada.'''\n",
        "\n",
        "  for box in boxes:\n",
        "\n",
        "    ## ESCREVA O CÓDIGO AQUI!\n",
        "\n",
        "  return img"
      ],
      "metadata": {
        "id": "6EKcf_-m99GI"
      },
      "execution_count": null,
      "outputs": []
    },
    {
      "cell_type": "code",
      "source": [
        "Blur_img = BLUR(img,boxes)"
      ],
      "metadata": {
        "id": "ok8jN3tz99Im"
      },
      "execution_count": null,
      "outputs": []
    },
    {
      "cell_type": "code",
      "source": [
        "### PLOT A IMAGEM AQUI!"
      ],
      "metadata": {
        "id": "RHSGAWaA99K2"
      },
      "execution_count": null,
      "outputs": []
    }
  ]
}