{
 "cells": [
  {
   "cell_type": "markdown",
   "metadata": {
    "id": "1Rwnl4cE25Iv"
   },
   "source": [
    "# Inteligência Artificial Embarcada - Aula 01"
   ]
  },
  {
   "cell_type": "markdown",
   "metadata": {
    "id": "QWuXHxo0eXaL"
   },
   "source": [
    "## Entendendo a Estrutura do Google Colab"
   ]
  },
  {
   "cell_type": "code",
   "execution_count": 1,
   "metadata": {
    "colab": {
     "base_uri": "https://localhost:8080/"
    },
    "id": "UjPkaboLeiu8",
    "outputId": "07a95827-6e99-4412-c32e-af6229a9ce47"
   },
   "outputs": [
    {
     "name": "stdout",
     "output_type": "stream",
     "text": [
      "Lab1.ipynb\n"
     ]
    }
   ],
   "source": [
    "!ls"
   ]
  },
  {
   "cell_type": "code",
   "execution_count": 2,
   "metadata": {
    "colab": {
     "base_uri": "https://localhost:8080/"
    },
    "id": "T0rFf6X1emUQ",
    "outputId": "6f60e378-bd22-421e-b172-35a533b4c0bf"
   },
   "outputs": [
    {
     "name": "stdout",
     "output_type": "stream",
     "text": [
      "/home/anahelena/GIT/AnaMarcacini/Aula de Visão Computacional\n"
     ]
    }
   ],
   "source": [
    "!pwd"
   ]
  },
  {
   "cell_type": "code",
   "execution_count": 3,
   "metadata": {
    "colab": {
     "base_uri": "https://localhost:8080/"
    },
    "id": "C_Y0ucEZeoU_",
    "outputId": "bd75a2cb-4bbc-4602-d634-7f5d00b7cc00"
   },
   "outputs": [
    {
     "name": "stdout",
     "output_type": "stream",
     "text": [
      "asn1crypto==1.5.1\n",
      "asttokens==2.4.1\n",
      "bcc==0.29.1\n",
      "beautifulsoup4==4.12.3\n",
      "blinker==1.7.0\n",
      "Brlapi==0.8.5\n",
      "Brotli==1.1.0\n",
      "certifi==2023.11.17\n",
      "chardet==5.2.0\n",
      "click==8.1.6\n",
      "colorama==0.4.6\n",
      "comm==0.2.2\n",
      "command-not-found==0.3\n",
      "contourpy==1.2.1\n",
      "cryptography==41.0.7\n",
      "cupshelpers==1.0\n",
      "cycler==0.12.1\n",
      "dbus-python==1.3.2\n",
      "debugpy==1.8.2\n",
      "decorator==5.1.1\n",
      "distro==1.9.0\n",
      "distro-info==1.7+build1\n",
      "et-xmlfile==1.1.0\n",
      "executing==2.0.1\n",
      "fonttools==4.53.1\n",
      "frozendict==2.4.4\n",
      "fuse-python==1.0.7\n",
      "galternatives==1.0.9\n",
      "gpg==1.18.0\n",
      "html5lib==1.1\n",
      "httplib2==0.20.4\n",
      "idna==3.6\n",
      "ipykernel==6.29.5\n",
      "ipython==8.26.0\n",
      "jedi==0.19.1\n",
      "jupyter_client==8.6.2\n",
      "jupyter_core==5.7.2\n",
      "kiwisolver==1.4.5\n",
      "language-selector==0.1\n",
      "launchpadlib==1.11.0\n",
      "lazr.restfulclient==0.14.6\n",
      "lazr.uri==1.0.6\n",
      "libvirt-python==10.0.0\n",
      "louis==3.29.0\n",
      "lxml==5.2.2\n",
      "Markdown==3.5.2\n",
      "markdown-it-py==3.0.0\n",
      "matplotlib==3.9.1\n",
      "matplotlib-inline==0.1.7\n",
      "mdurl==0.1.2\n",
      "mechanize==0.4.9\n",
      "multitasking==0.0.11\n",
      "mutagen==1.46.0\n",
      "nest-asyncio==1.6.0\n",
      "netaddr==0.8.0\n",
      "netifaces==0.11.0\n",
      "numpy==2.0.1\n",
      "oauthlib==3.2.2\n",
      "olefile==0.46\n",
      "openpyxl==3.1.5\n",
      "packaging==24.1\n",
      "pandas==2.2.2\n",
      "parso==0.8.4\n",
      "patsy==0.5.6\n",
      "peewee==3.17.6\n",
      "pexpect==4.9.0\n",
      "pillow==10.2.0\n",
      "platformdirs==4.2.2\n",
      "prompt_toolkit==3.0.47\n",
      "psutil==6.0.0\n",
      "ptyprocess==0.7.0\n",
      "pure_eval==0.2.3\n",
      "pycairo==1.25.1\n",
      "pycryptodomex==3.20.0\n",
      "pycups==2.0.1\n",
      "Pygments==2.18.0\n",
      "PyGObject==3.48.2\n",
      "PyJWT==2.7.0\n",
      "pylibacl==0.7.0\n",
      "pyparsing==3.1.1\n",
      "PyQt5==5.15.10\n",
      "PyQt5-sip==12.13.0\n",
      "python-apt==2.7.7+ubuntu1\n",
      "python-dateutil==2.9.0.post0\n",
      "python-debian==0.1.49+ubuntu2\n",
      "pytz==2024.1\n",
      "pyxattr==0.8.1\n",
      "pyxdg==0.28\n",
      "PyYAML==6.0.1\n",
      "pyzmq==26.0.3\n",
      "requests==2.31.0\n",
      "rich==13.7.1\n",
      "scipy==1.14.0\n",
      "seaborn==0.13.2\n",
      "setuptools==68.1.2\n",
      "six==1.16.0\n",
      "soupsieve==2.5\n",
      "stack-data==0.6.3\n",
      "statsmodels==0.14.2\n",
      "systemd-python==235\n",
      "tornado==6.4.1\n",
      "traitlets==5.14.3\n",
      "typing_extensions==4.10.0\n",
      "tzdata==2024.1\n",
      "ubuntu-drivers-common==0.0.0\n",
      "ubuntu-pro-client==8001\n",
      "ufw==0.36.2\n",
      "unattended-upgrades==0.1\n",
      "urllib3==2.0.7\n",
      "usb-creator==0.3.16\n",
      "vboxapi==1.0\n",
      "wadllib==1.3.6\n",
      "wcwidth==0.2.13\n",
      "webencodings==0.5.1\n",
      "websockets==10.4\n",
      "wheel==0.42.0\n",
      "xdg==5\n",
      "xkit==0.0.0\n",
      "yfinance==0.2.41\n",
      "yt-dlp==2024.4.9\n"
     ]
    }
   ],
   "source": [
    "!pip freeze"
   ]
  },
  {
   "cell_type": "code",
   "execution_count": 4,
   "metadata": {
    "colab": {
     "base_uri": "https://localhost:8080/"
    },
    "id": "Fp0LXL1Fe0Gl",
    "outputId": "11471a18-ef97-497b-b697-ac69996daa59"
   },
   "outputs": [
    {
     "name": "stdout",
     "output_type": "stream",
     "text": [
      "zsh:1: command not found: nvidia-smi\n"
     ]
    }
   ],
   "source": [
    "!nvidia-smi"
   ]
  },
  {
   "cell_type": "markdown",
   "metadata": {
    "id": "mGU4lVAZ3kZB"
   },
   "source": [
    "## Manipulando Imagens"
   ]
  },
  {
   "cell_type": "code",
   "execution_count": 1,
   "metadata": {
    "id": "ORbJJMNp2N90"
   },
   "outputs": [
    {
     "ename": "ModuleNotFoundError",
     "evalue": "No module named 'cv2'",
     "output_type": "error",
     "traceback": [
      "\u001b[0;31m---------------------------------------------------------------------------\u001b[0m",
      "\u001b[0;31mModuleNotFoundError\u001b[0m                       Traceback (most recent call last)",
      "Cell \u001b[0;32mIn[1], line 3\u001b[0m\n\u001b[1;32m      1\u001b[0m \u001b[38;5;66;03m#importando as bibliotecas\u001b[39;00m\n\u001b[0;32m----> 3\u001b[0m \u001b[38;5;28;01mimport\u001b[39;00m \u001b[38;5;21;01mcv2\u001b[39;00m\n\u001b[1;32m      5\u001b[0m \u001b[38;5;28;01mfrom\u001b[39;00m \u001b[38;5;21;01mgoogle\u001b[39;00m\u001b[38;5;21;01m.\u001b[39;00m\u001b[38;5;21;01mcolab\u001b[39;00m\u001b[38;5;21;01m.\u001b[39;00m\u001b[38;5;21;01mpatches\u001b[39;00m \u001b[38;5;28;01mimport\u001b[39;00m cv2_imshow\n\u001b[1;32m      7\u001b[0m \u001b[38;5;124;03m'''\u001b[39;00m\n\u001b[1;32m      8\u001b[0m \n\u001b[1;32m      9\u001b[0m \u001b[38;5;124;03mDisabledFunctionError: cv2.imshow() is disabled in Colab'\u001b[39;00m\n\u001b[0;32m   (...)\u001b[0m\n\u001b[1;32m     13\u001b[0m \n\u001b[1;32m     14\u001b[0m \u001b[38;5;124;03m'''\u001b[39;00m\n",
      "\u001b[0;31mModuleNotFoundError\u001b[0m: No module named 'cv2'"
     ]
    }
   ],
   "source": [
    "#importando as bibliotecas\n",
    "\n",
    "import cv2\n",
    "\n",
    "from google.colab.patches import cv2_imshow\n",
    "\n",
    "'''\n",
    "\n",
    "DisabledFunctionError: cv2.imshow() is disabled in Colab'\n",
    "because it causes Jupyter sessions\n",
    "to crash; see https://github.com/jupyter/notebook/issues/3935.\n",
    "As a substitution, consider using\n",
    "\n",
    "'''\n",
    "\n",
    "import numpy as np"
   ]
  },
  {
   "cell_type": "code",
   "execution_count": null,
   "metadata": {
    "id": "miIkXiPi4bAG"
   },
   "outputs": [],
   "source": [
    "img3    = cv2.imread('/content/james.jpeg')\n",
    "\n",
    "altura,largura,canal = img3.shape\n",
    "# cv2.shape --> (linha,coluna,canal)"
   ]
  },
  {
   "cell_type": "code",
   "execution_count": null,
   "metadata": {
    "colab": {
     "base_uri": "https://localhost:8080/"
    },
    "id": "2oCIl2rDF2q1",
    "outputId": "0f211b28-97d4-461c-cae0-681d22327d4e"
   },
   "outputs": [],
   "source": [
    "print(\"\"\"A Imagem Possui {} Canais, com uma resolução de {} px por {} px\"\"\".\\\n",
    "      format(canal,altura,largura))"
   ]
  },
  {
   "cell_type": "code",
   "execution_count": null,
   "metadata": {
    "colab": {
     "base_uri": "https://localhost:8080/",
     "height": 475
    },
    "id": "HbnsfTrb98ks",
    "outputId": "477fb5de-df96-4233-ec1d-1c727d8dccc9"
   },
   "outputs": [],
   "source": [
    "cv2_imshow(img3)\n",
    "cv2.waitKey(0)\n",
    "cv2.destroyAllWindows()"
   ]
  },
  {
   "cell_type": "code",
   "execution_count": null,
   "metadata": {
    "colab": {
     "base_uri": "https://localhost:8080/",
     "height": 246
    },
    "id": "iCA8qcto4cXx",
    "outputId": "81ba12cb-beb3-497a-c1cf-ffb7de30a598"
   },
   "outputs": [],
   "source": [
    "img3_ajustada = cv2.resize(img3, (int(0.5*largura), int(0.5*altura)),\n",
    "                           cv2.INTER_AREA)\n",
    "\n",
    "cv2_imshow(img3_ajustada)\n",
    "cv2.waitKey(0)\n",
    "cv2.destroyAllWindows()\n",
    "\n",
    "#res = cv.resize(img,(2*width, 2*height), interpolation = cv.INTER_CUBIC)"
   ]
  },
  {
   "cell_type": "code",
   "execution_count": null,
   "metadata": {
    "id": "vHM6iUvt4cdM"
   },
   "outputs": [],
   "source": [
    "altura_ajustada,largura_ajustada,canal_ajustado = img3_ajustada.shape"
   ]
  },
  {
   "cell_type": "code",
   "execution_count": null,
   "metadata": {
    "colab": {
     "base_uri": "https://localhost:8080/"
    },
    "id": "mcqiBe6E4caU",
    "outputId": "07286d87-e3f0-4dbb-f327-1583ff35bb18"
   },
   "outputs": [],
   "source": [
    "print(\"\"\"\n",
    " A Imagem ajustada Possui {} Canais, com uma resolução de {} px por {} px\"\"\".\\\n",
    "      format(canal_ajustado,altura_ajustada,largura_ajustada))"
   ]
  },
  {
   "cell_type": "code",
   "execution_count": null,
   "metadata": {
    "id": "0e68DEfV4cfy"
   },
   "outputs": [],
   "source": [
    "from IPython.display import display\n",
    "from PIL import Image"
   ]
  },
  {
   "cell_type": "code",
   "execution_count": null,
   "metadata": {
    "colab": {
     "base_uri": "https://localhost:8080/",
     "height": 475
    },
    "id": "R6qN1UJ14ciI",
    "outputId": "2a69e794-6e63-45bc-b589-953a977779ff"
   },
   "outputs": [],
   "source": [
    "img3_RGB = cv2.cvtColor(img3, cv2.COLOR_BGR2RGB)\n",
    "display(Image.fromarray(img3_RGB))\n",
    "\n",
    "# Opencv --> Espaço de Cores Default - BGR (Blue Green Red)\n",
    "# Opencv --> Espaço de Cores Default - RGB (Red  Green Blue)"
   ]
  },
  {
   "cell_type": "code",
   "execution_count": null,
   "metadata": {
    "id": "AOUN9uPOdw0w"
   },
   "outputs": [],
   "source": [
    "import os"
   ]
  },
  {
   "cell_type": "code",
   "execution_count": null,
   "metadata": {
    "colab": {
     "base_uri": "https://localhost:8080/"
    },
    "id": "eUEaBp-bdw_Y",
    "outputId": "85567e8c-33cc-4942-9eaf-0d44fb66737d"
   },
   "outputs": [],
   "source": [
    "randomByteArray = bytearray(os.urandom(120000))\n",
    "print(type(randomByteArray))\n",
    "print(randomByteArray)"
   ]
  },
  {
   "cell_type": "code",
   "execution_count": null,
   "metadata": {
    "colab": {
     "base_uri": "https://localhost:8080/"
    },
    "id": "SXVuvGmLdxBr",
    "outputId": "ed82ec6d-fb39-4964-eae0-e1a9fb599add"
   },
   "outputs": [],
   "source": [
    "NumpyArray = np.array(randomByteArray)\n",
    "print(type(NumpyArray))\n",
    "print(NumpyArray)\n",
    "print(NumpyArray.shape)\n",
    "print(NumpyArray.min())\n",
    "print(NumpyArray.max())"
   ]
  },
  {
   "cell_type": "code",
   "execution_count": null,
   "metadata": {
    "id": "0vHfraSNdxES"
   },
   "outputs": [],
   "source": [
    "ImagemCinza = NumpyArray.reshape(300, 400)"
   ]
  },
  {
   "cell_type": "code",
   "execution_count": null,
   "metadata": {
    "colab": {
     "base_uri": "https://localhost:8080/"
    },
    "id": "IQePB2MHdxG4",
    "outputId": "7fb55fc0-9429-443d-fb92-52b38007f4ea"
   },
   "outputs": [],
   "source": [
    "alturaCinza,larguraCinza = ImagemCinza.shape\n",
    "\n",
    "print(\"\"\"\n",
    " A Imagem ajustada Possui 1 Canal, com uma resolução de {} px por {} px\"\"\".\\\n",
    "      format(alturaCinza,larguraCinza))"
   ]
  },
  {
   "cell_type": "code",
   "execution_count": null,
   "metadata": {
    "colab": {
     "base_uri": "https://localhost:8080/",
     "height": 317
    },
    "id": "SJxiO4mSdxOd",
    "outputId": "91d738cd-ce3d-4012-bba5-c7459a9be47c"
   },
   "outputs": [],
   "source": [
    "cv2_imshow(ImagemCinza)\n",
    "cv2.waitKey(0)\n",
    "cv2.destroyAllWindows()"
   ]
  },
  {
   "cell_type": "code",
   "execution_count": null,
   "metadata": {
    "id": "5Q7TZioejId3"
   },
   "outputs": [],
   "source": [
    "ImagemBGR = NumpyArray.reshape(100, 400, 3)"
   ]
  },
  {
   "cell_type": "code",
   "execution_count": null,
   "metadata": {
    "colab": {
     "base_uri": "https://localhost:8080/"
    },
    "id": "0Y_B2KkujIgX",
    "outputId": "a0dc556b-0779-4959-b08a-65b8cf9aeaa9"
   },
   "outputs": [],
   "source": [
    "alturaBGR,larguraBGR,canalBGR = ImagemBGR.shape\n",
    "\n",
    "print(\"\"\"\n",
    " A Imagem ajustada Possui {} Canais, com uma resolução de {} px por {} px\"\"\".\\\n",
    "      format(canalBGR,alturaCinza,larguraCinza))"
   ]
  },
  {
   "cell_type": "code",
   "execution_count": null,
   "metadata": {
    "colab": {
     "base_uri": "https://localhost:8080/",
     "height": 117
    },
    "id": "YS0LhAPBjIjA",
    "outputId": "7fe1fa9a-eb24-4f53-ee39-b62fabb66f5b"
   },
   "outputs": [],
   "source": [
    "cv2_imshow(ImagemBGR)\n",
    "cv2.waitKey(0)\n",
    "cv2.destroyAllWindows()"
   ]
  }
 ],
 "metadata": {
  "colab": {
   "provenance": []
  },
  "kernelspec": {
   "display_name": "Python 3 (ipykernel)",
   "language": "python",
   "name": "python3"
  },
  "language_info": {
   "codemirror_mode": {
    "name": "ipython",
    "version": 3
   },
   "file_extension": ".py",
   "mimetype": "text/x-python",
   "name": "python",
   "nbconvert_exporter": "python",
   "pygments_lexer": "ipython3",
   "version": "3.12.3"
  }
 },
 "nbformat": 4,
 "nbformat_minor": 4
}
