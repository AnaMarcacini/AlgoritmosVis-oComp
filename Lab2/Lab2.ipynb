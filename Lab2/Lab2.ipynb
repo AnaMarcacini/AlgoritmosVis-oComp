{
 "cells": [
  {
   "cell_type": "markdown",
   "metadata": {
    "id": "OuqXfqzDw3Vb"
   },
   "source": [
    "# Algoritmos de Visão Computacional com Inteligência Artificial - Aula 02"
   ]
  },
  {
   "cell_type": "markdown",
   "metadata": {
    "id": "GGbo13BUw-rr"
   },
   "source": [
    "## Algoritmo Filtro Média"
   ]
  },
  {
   "cell_type": "code",
   "execution_count": null,
   "metadata": {
    "id": "kHRCON3nw9fs"
   },
   "outputs": [],
   "source": [
    "import cv2\n",
    "from google.colab.patches import cv2_imshow\n",
    "import numpy as np"
   ]
  },
  {
   "cell_type": "code",
   "execution_count": null,
   "metadata": {
    "id": "hFo0SOIkwtFq"
   },
   "outputs": [],
   "source": [
    "img  = cv2.imread('/content/messi.jpeg')"
   ]
  },
  {
   "cell_type": "code",
   "execution_count": null,
   "metadata": {
    "colab": {
     "base_uri": "https://localhost:8080/",
     "height": 297
    },
    "id": "0GQ5a_1IAEUk",
    "outputId": "d3ded4e1-33b3-4bf8-cfb0-0a1dd1559b96"
   },
   "outputs": [],
   "source": [
    "cv2_imshow(img)"
   ]
  },
  {
   "cell_type": "code",
   "execution_count": null,
   "metadata": {
    "id": "VaO5dRd_Sxb_"
   },
   "outputs": [],
   "source": [
    "def FiltroMedia(img:np.array,f:int):\n",
    "\n",
    "  ''' img: imagem de entrada\n",
    "      f  : tamanho do kernel (admitiremos que ele é quadrado) '''\n",
    "\n",
    "  altura,largura,canal = img.shape\n",
    "  ImagemSaida = 255*np.ones_like(img)\n",
    "  # tente zeros_like\n",
    "\n",
    "  k = f//2\n",
    "  r = f%2\n",
    "\n",
    "  for c in range(canal):\n",
    "    for y in range(k,altura-k):\n",
    "      for x in range(k,largura-k):\n",
    "\n",
    "        kernel = img[y-k:y+k+r,x-k:x+k+r,c]\n",
    "        ImagemSaida[y,x,c] = int(np.mean(kernel))\n",
    "  return ImagemSaida"
   ]
  },
  {
   "cell_type": "code",
   "execution_count": null,
   "metadata": {
    "colab": {
     "base_uri": "https://localhost:8080/",
     "height": 297
    },
    "id": "6Y5tr8P1kH6i",
    "outputId": "f25052bb-ab2e-4be9-b5de-10e1505f6ec3"
   },
   "outputs": [],
   "source": [
    "ImgFiltro = FiltroMedia(img,15)\n",
    "cv2_imshow(ImgFiltro)"
   ]
  },
  {
   "cell_type": "markdown",
   "metadata": {
    "id": "fL-cF0DH1Vzk"
   },
   "source": [
    "## OPENCV - Métodos Prontos"
   ]
  },
  {
   "cell_type": "markdown",
   "metadata": {
    "id": "aFhHASUlll_G"
   },
   "source": [
    "Consulte a documentação do OpenCV:\n",
    "\n",
    "https://docs.opencv.org/4.x/d4/d13/tutorial_py_filtering.html"
   ]
  },
  {
   "cell_type": "markdown",
   "metadata": {
    "id": "KFZ2lUSY1ltI"
   },
   "source": [
    "### Método Blur"
   ]
  },
  {
   "cell_type": "code",
   "execution_count": null,
   "metadata": {
    "colab": {
     "base_uri": "https://localhost:8080/",
     "height": 297
    },
    "id": "8OFG77eT2G-a",
    "outputId": "1d538ac1-c019-42f6-9ad9-452264030919"
   },
   "outputs": [],
   "source": [
    "FiltroBlur1 = cv2.blur(img,(15, 15),borderType = cv2.BORDER_REPLICATE)\n",
    "cv2_imshow(FiltroBlur1)"
   ]
  },
  {
   "cell_type": "code",
   "execution_count": null,
   "metadata": {
    "colab": {
     "base_uri": "https://localhost:8080/",
     "height": 297
    },
    "id": "DbnhhEcd6tUJ",
    "outputId": "3eb089f7-ca23-4ff3-f7db-51d716b19a3f"
   },
   "outputs": [],
   "source": [
    "FiltroBlur2 = cv2.blur(img,(15, 15),borderType = cv2.BORDER_CONSTANT)\n",
    "cv2_imshow(FiltroBlur2)"
   ]
  },
  {
   "cell_type": "code",
   "execution_count": null,
   "metadata": {
    "colab": {
     "base_uri": "https://localhost:8080/",
     "height": 297
    },
    "id": "scuCZY9O65dF",
    "outputId": "47024a0d-4d47-43bf-9326-4e07b71e4a3b"
   },
   "outputs": [],
   "source": [
    "FiltroBlur3 = cv2.blur(img,(15, 15),borderType = cv2.BORDER_REFLECT,)\n",
    "cv2_imshow(FiltroBlur3)"
   ]
  },
  {
   "cell_type": "markdown",
   "metadata": {
    "id": "rldMc5RB2U_3"
   },
   "source": [
    "### Método Gaussiano"
   ]
  },
  {
   "cell_type": "code",
   "execution_count": null,
   "metadata": {
    "colab": {
     "base_uri": "https://localhost:8080/",
     "height": 297
    },
    "id": "8YT5XwYqE8Xw",
    "outputId": "1e5e2898-949f-412e-f214-44f1f80c93af"
   },
   "outputs": [],
   "source": [
    "FiltroGaussiano = cv2.GaussianBlur(img,(15, 15),0)\n",
    "cv2_imshow(FiltroGaussiano)"
   ]
  },
  {
   "cell_type": "markdown",
   "metadata": {
    "id": "wM8JD5NS2YqP"
   },
   "source": [
    "### Método Mediana"
   ]
  },
  {
   "cell_type": "code",
   "execution_count": null,
   "metadata": {
    "colab": {
     "base_uri": "https://localhost:8080/",
     "height": 297
    },
    "id": "fq78RKwFK25m",
    "outputId": "ffb29c76-471d-44b0-d665-9422de959703"
   },
   "outputs": [],
   "source": [
    "FiltroMediana = cv2.medianBlur(img,15)\n",
    "cv2_imshow(FiltroMediana)"
   ]
  },
  {
   "cell_type": "markdown",
   "metadata": {
    "id": "FhzPHe_02cjO"
   },
   "source": [
    "## Aplicação - Redaction"
   ]
  },
  {
   "cell_type": "code",
   "execution_count": null,
   "metadata": {
    "colab": {
     "base_uri": "https://localhost:8080/",
     "height": 297
    },
    "id": "g9bwJI8TOScX",
    "outputId": "cc1532d9-e9e5-4e84-9264-7557cd5e3320"
   },
   "outputs": [],
   "source": [
    "redaction = img.copy()\n",
    "redaction[60:130,150:250,:] = cv2.GaussianBlur(redaction[60:130,150:250,:],\n",
    "                                              (15, 15),0)\n",
    "cv2_imshow(redaction)"
   ]
  },
  {
   "cell_type": "code",
   "execution_count": null,
   "metadata": {
    "id": "QWgPyDYw0wgG"
   },
   "outputs": [],
   "source": [
    "cv2.imwrite('/content/messi_redaction.jpeg',redaction)"
   ]
  }
 ],
 "metadata": {
  "colab": {
   "provenance": []
  },
  "kernelspec": {
   "display_name": "Python 3 (ipykernel)",
   "language": "python",
   "name": "python3"
  },
  "language_info": {
   "codemirror_mode": {
    "name": "ipython",
    "version": 3
   },
   "file_extension": ".py",
   "mimetype": "text/x-python",
   "name": "python",
   "nbconvert_exporter": "python",
   "pygments_lexer": "ipython3",
   "version": "3.12.2"
  }
 },
 "nbformat": 4,
 "nbformat_minor": 4
}
