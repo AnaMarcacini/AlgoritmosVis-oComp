{
 "cells": [
  {
   "cell_type": "markdown",
   "metadata": {
    "id": "1Rwnl4cE25Iv"
   },
   "source": [
    "# Inteligência Artificial Embarcada - Aula 01"
   ]
  },
  {
   "cell_type": "markdown",
   "metadata": {
    "id": "QWuXHxo0eXaL"
   },
   "source": [
    "## Entendendo a Estrutura do Google Colab"
   ]
  },
  {
   "cell_type": "code",
   "execution_count": null,
   "metadata": {
    "colab": {
     "base_uri": "https://localhost:8080/"
    },
    "id": "UjPkaboLeiu8",
    "outputId": "07a95827-6e99-4412-c32e-af6229a9ce47"
   },
   "outputs": [],
   "source": [
    "!ls"
   ]
  },
  {
   "cell_type": "code",
   "execution_count": null,
   "metadata": {
    "colab": {
     "base_uri": "https://localhost:8080/"
    },
    "id": "T0rFf6X1emUQ",
    "outputId": "6f60e378-bd22-421e-b172-35a533b4c0bf"
   },
   "outputs": [],
   "source": [
    "!pwd"
   ]
  },
  {
   "cell_type": "code",
   "execution_count": null,
   "metadata": {
    "colab": {
     "base_uri": "https://localhost:8080/"
    },
    "id": "C_Y0ucEZeoU_",
    "outputId": "bd75a2cb-4bbc-4602-d634-7f5d00b7cc00"
   },
   "outputs": [],
   "source": [
    "!pip freeze"
   ]
  },
  {
   "cell_type": "code",
   "execution_count": null,
   "metadata": {
    "colab": {
     "base_uri": "https://localhost:8080/"
    },
    "id": "Fp0LXL1Fe0Gl",
    "outputId": "11471a18-ef97-497b-b697-ac69996daa59"
   },
   "outputs": [],
   "source": [
    "!nvidia-smi"
   ]
  },
  {
   "cell_type": "markdown",
   "metadata": {
    "id": "mGU4lVAZ3kZB"
   },
   "source": [
    "## Manipulando Imagens"
   ]
  },
  {
   "cell_type": "code",
   "execution_count": null,
   "metadata": {
    "id": "ORbJJMNp2N90"
   },
   "outputs": [],
   "source": [
    "#importando as bibliotecas\n",
    "\n",
    "import cv2\n",
    "\n",
    "from google.colab.patches import cv2_imshow\n",
    "\n",
    "'''\n",
    "\n",
    "DisabledFunctionError: cv2.imshow() is disabled in Colab'\n",
    "because it causes Jupyter sessions\n",
    "to crash; see https://github.com/jupyter/notebook/issues/3935.\n",
    "As a substitution, consider using\n",
    "\n",
    "'''\n",
    "\n",
    "import numpy as np"
   ]
  },
  {
   "cell_type": "code",
   "execution_count": null,
   "metadata": {
    "id": "miIkXiPi4bAG"
   },
   "outputs": [],
   "source": [
    "img3    = cv2.imread('/content/james.jpeg')\n",
    "\n",
    "altura,largura,canal = img3.shape\n",
    "# cv2.shape --> (linha,coluna,canal)"
   ]
  },
  {
   "cell_type": "code",
   "execution_count": null,
   "metadata": {
    "colab": {
     "base_uri": "https://localhost:8080/"
    },
    "id": "2oCIl2rDF2q1",
    "outputId": "0f211b28-97d4-461c-cae0-681d22327d4e"
   },
   "outputs": [],
   "source": [
    "print(\"\"\"A Imagem Possui {} Canais, com uma resolução de {} px por {} px\"\"\".\\\n",
    "      format(canal,altura,largura))"
   ]
  },
  {
   "cell_type": "code",
   "execution_count": null,
   "metadata": {
    "colab": {
     "base_uri": "https://localhost:8080/",
     "height": 475
    },
    "id": "HbnsfTrb98ks",
    "outputId": "477fb5de-df96-4233-ec1d-1c727d8dccc9"
   },
   "outputs": [],
   "source": [
    "cv2_imshow(img3)\n",
    "cv2.waitKey(0)\n",
    "cv2.destroyAllWindows()"
   ]
  },
  {
   "cell_type": "code",
   "execution_count": null,
   "metadata": {
    "colab": {
     "base_uri": "https://localhost:8080/",
     "height": 246
    },
    "id": "iCA8qcto4cXx",
    "outputId": "81ba12cb-beb3-497a-c1cf-ffb7de30a598"
   },
   "outputs": [],
   "source": [
    "img3_ajustada = cv2.resize(img3, (int(0.5*largura), int(0.5*altura)),\n",
    "                           cv2.INTER_AREA)\n",
    "\n",
    "cv2_imshow(img3_ajustada)\n",
    "cv2.waitKey(0)\n",
    "cv2.destroyAllWindows()\n",
    "\n",
    "#res = cv.resize(img,(2*width, 2*height), interpolation = cv.INTER_CUBIC)"
   ]
  },
  {
   "cell_type": "code",
   "execution_count": null,
   "metadata": {
    "id": "vHM6iUvt4cdM"
   },
   "outputs": [],
   "source": [
    "altura_ajustada,largura_ajustada,canal_ajustado = img3_ajustada.shape"
   ]
  },
  {
   "cell_type": "code",
   "execution_count": null,
   "metadata": {
    "colab": {
     "base_uri": "https://localhost:8080/"
    },
    "id": "mcqiBe6E4caU",
    "outputId": "07286d87-e3f0-4dbb-f327-1583ff35bb18"
   },
   "outputs": [],
   "source": [
    "print(\"\"\"\n",
    " A Imagem ajustada Possui {} Canais, com uma resolução de {} px por {} px\"\"\".\\\n",
    "      format(canal_ajustado,altura_ajustada,largura_ajustada))"
   ]
  },
  {
   "cell_type": "code",
   "execution_count": null,
   "metadata": {
    "id": "0e68DEfV4cfy"
   },
   "outputs": [],
   "source": [
    "from IPython.display import display\n",
    "from PIL import Image"
   ]
  },
  {
   "cell_type": "code",
   "execution_count": null,
   "metadata": {
    "colab": {
     "base_uri": "https://localhost:8080/",
     "height": 475
    },
    "id": "R6qN1UJ14ciI",
    "outputId": "2a69e794-6e63-45bc-b589-953a977779ff"
   },
   "outputs": [],
   "source": [
    "img3_RGB = cv2.cvtColor(img3, cv2.COLOR_BGR2RGB)\n",
    "display(Image.fromarray(img3_RGB))\n",
    "\n",
    "# Opencv --> Espaço de Cores Default - BGR (Blue Green Red)\n",
    "# Opencv --> Espaço de Cores Default - RGB (Red  Green Blue)"
   ]
  },
  {
   "cell_type": "code",
   "execution_count": null,
   "metadata": {
    "id": "AOUN9uPOdw0w"
   },
   "outputs": [],
   "source": [
    "import os"
   ]
  },
  {
   "cell_type": "code",
   "execution_count": null,
   "metadata": {
    "colab": {
     "base_uri": "https://localhost:8080/"
    },
    "id": "eUEaBp-bdw_Y",
    "outputId": "85567e8c-33cc-4942-9eaf-0d44fb66737d"
   },
   "outputs": [],
   "source": [
    "randomByteArray = bytearray(os.urandom(120000))\n",
    "print(type(randomByteArray))\n",
    "print(randomByteArray)"
   ]
  },
  {
   "cell_type": "code",
   "execution_count": null,
   "metadata": {
    "colab": {
     "base_uri": "https://localhost:8080/"
    },
    "id": "SXVuvGmLdxBr",
    "outputId": "ed82ec6d-fb39-4964-eae0-e1a9fb599add"
   },
   "outputs": [],
   "source": [
    "NumpyArray = np.array(randomByteArray)\n",
    "print(type(NumpyArray))\n",
    "print(NumpyArray)\n",
    "print(NumpyArray.shape)\n",
    "print(NumpyArray.min())\n",
    "print(NumpyArray.max())"
   ]
  },
  {
   "cell_type": "code",
   "execution_count": null,
   "metadata": {
    "id": "0vHfraSNdxES"
   },
   "outputs": [],
   "source": [
    "ImagemCinza = NumpyArray.reshape(300, 400)"
   ]
  },
  {
   "cell_type": "code",
   "execution_count": null,
   "metadata": {
    "colab": {
     "base_uri": "https://localhost:8080/"
    },
    "id": "IQePB2MHdxG4",
    "outputId": "7fb55fc0-9429-443d-fb92-52b38007f4ea"
   },
   "outputs": [],
   "source": [
    "alturaCinza,larguraCinza = ImagemCinza.shape\n",
    "\n",
    "print(\"\"\"\n",
    " A Imagem ajustada Possui 1 Canal, com uma resolução de {} px por {} px\"\"\".\\\n",
    "      format(alturaCinza,larguraCinza))"
   ]
  },
  {
   "cell_type": "code",
   "execution_count": null,
   "metadata": {
    "colab": {
     "base_uri": "https://localhost:8080/",
     "height": 317
    },
    "id": "SJxiO4mSdxOd",
    "outputId": "91d738cd-ce3d-4012-bba5-c7459a9be47c"
   },
   "outputs": [],
   "source": [
    "cv2_imshow(ImagemCinza)\n",
    "cv2.waitKey(0)\n",
    "cv2.destroyAllWindows()"
   ]
  },
  {
   "cell_type": "code",
   "execution_count": null,
   "metadata": {
    "id": "5Q7TZioejId3"
   },
   "outputs": [],
   "source": [
    "ImagemBGR = NumpyArray.reshape(100, 400, 3)"
   ]
  },
  {
   "cell_type": "code",
   "execution_count": null,
   "metadata": {
    "colab": {
     "base_uri": "https://localhost:8080/"
    },
    "id": "0Y_B2KkujIgX",
    "outputId": "a0dc556b-0779-4959-b08a-65b8cf9aeaa9"
   },
   "outputs": [],
   "source": [
    "alturaBGR,larguraBGR,canalBGR = ImagemBGR.shape\n",
    "\n",
    "print(\"\"\"\n",
    " A Imagem ajustada Possui {} Canais, com uma resolução de {} px por {} px\"\"\".\\\n",
    "      format(canalBGR,alturaCinza,larguraCinza))"
   ]
  },
  {
   "cell_type": "code",
   "execution_count": null,
   "metadata": {
    "colab": {
     "base_uri": "https://localhost:8080/",
     "height": 117
    },
    "id": "YS0LhAPBjIjA",
    "outputId": "7fe1fa9a-eb24-4f53-ee39-b62fabb66f5b"
   },
   "outputs": [],
   "source": [
    "cv2_imshow(ImagemBGR)\n",
    "cv2.waitKey(0)\n",
    "cv2.destroyAllWindows()"
   ]
  }
 ],
 "metadata": {
  "colab": {
   "provenance": []
  },
  "kernelspec": {
   "display_name": "Python 3 (ipykernel)",
   "language": "python",
   "name": "python3"
  },
  "language_info": {
   "codemirror_mode": {
    "name": "ipython",
    "version": 3
   },
   "file_extension": ".py",
   "mimetype": "text/x-python",
   "name": "python",
   "nbconvert_exporter": "python",
   "pygments_lexer": "ipython3",
   "version": "3.12.2"
  }
 },
 "nbformat": 4,
 "nbformat_minor": 4
}
